{
 "cells": [
  {
   "cell_type": "markdown",
   "id": "9a6c3158",
   "metadata": {},
   "source": [
    "Data Class\n"
   ]
  },
  {
   "cell_type": "code",
   "execution_count": 5,
   "id": "0348de0d",
   "metadata": {},
   "outputs": [],
   "source": [
    "class Review:\n",
    "    def __init__(self, text, score):\n",
    "        self.text = text\n",
    "        self.score = score\n",
    "        self.sentiment = self.get_sentiment()\n",
    "    \n",
    "    def get_sentiment(self):\n",
    "        if (self.score <= 2):\n",
    "            return 'NEGATIVE'\n",
    "        elif (self.score == 3):\n",
    "            return 'NEUTRAL'\n",
    "        else:\n",
    "            return 'POSITIVE'"
   ]
  },
  {
   "cell_type": "markdown",
   "id": "6b87a2cb",
   "metadata": {},
   "source": [
    "Load Data"
   ]
  },
  {
   "cell_type": "code",
   "execution_count": 7,
   "id": "db6780c2",
   "metadata": {},
   "outputs": [],
   "source": [
    "import json\n",
    "file_name= r'Data/Books_small.json'\n",
    "reviews=[]\n",
    "with open(file_name) as f:\n",
    "    for line in f:\n",
    "        review = json.loads(line)\n",
    "        reviews.append(Review(review['reviewText'],review['overall']))"
   ]
  },
  {
   "cell_type": "markdown",
   "id": "535f69a3",
   "metadata": {},
   "source": [
    "Prep Data"
   ]
  },
  {
   "cell_type": "code",
   "execution_count": 8,
   "id": "c2dec23b",
   "metadata": {},
   "outputs": [],
   "source": [
    "from sklearn.model_selection import train_test_split\n",
    "training, testing = train_test_split(reviews, test_size=0.33, random_state=42)"
   ]
  },
  {
   "cell_type": "code",
   "execution_count": 9,
   "id": "a5dc75ed",
   "metadata": {},
   "outputs": [],
   "source": [
    "x_train = [x.text for x in training]\n",
    "y_train =[x.sentiment for x in training]\n",
    "\n",
    "x_test =[x.text for x in testing]\n",
    "y_test =[x.sentiment for x in testing]"
   ]
  },
  {
   "cell_type": "markdown",
   "id": "5a0b6e28",
   "metadata": {},
   "source": [
    "Bags of words vectorization"
   ]
  },
  {
   "cell_type": "code",
   "execution_count": 10,
   "id": "86182067",
   "metadata": {},
   "outputs": [],
   "source": [
    "from sklearn.feature_extraction.text import CountVectorizer\n",
    "vectorizer = CountVectorizer()\n",
    "x_train_vector = vectorizer.fit_transform(x_train)"
   ]
  }
 ],
 "metadata": {
  "kernelspec": {
   "display_name": "main",
   "language": "python",
   "name": "python3"
  },
  "language_info": {
   "codemirror_mode": {
    "name": "ipython",
    "version": 3
   },
   "file_extension": ".py",
   "mimetype": "text/x-python",
   "name": "python",
   "nbconvert_exporter": "python",
   "pygments_lexer": "ipython3",
   "version": "3.13.5"
  }
 },
 "nbformat": 4,
 "nbformat_minor": 5
}
