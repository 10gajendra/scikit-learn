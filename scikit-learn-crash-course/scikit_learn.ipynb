{
 "cells": [
  {
   "cell_type": "markdown",
   "id": "9a6c3158",
   "metadata": {},
   "source": [
    "## Data Class\n"
   ]
  },
  {
   "cell_type": "code",
   "execution_count": 2,
   "id": "0348de0d",
   "metadata": {},
   "outputs": [],
   "source": [
    "class Review:\n",
    "    def __init__(self, text, score):\n",
    "        self.text = text\n",
    "        self.score = score\n",
    "        self.sentiment = self.get_sentiment()\n",
    "    \n",
    "    def get_sentiment(self):\n",
    "        if (self.score <= 2):\n",
    "            return 'NEGATIVE'\n",
    "        elif (self.score == 3):\n",
    "            return 'NEUTRAL'\n",
    "        else:\n",
    "            return 'POSITIVE'"
   ]
  },
  {
   "cell_type": "markdown",
   "id": "6b87a2cb",
   "metadata": {},
   "source": [
    "##  Load Data"
   ]
  },
  {
   "cell_type": "code",
   "execution_count": 3,
   "id": "db6780c2",
   "metadata": {},
   "outputs": [],
   "source": [
    "import json\n",
    "file_name= r'Data/Books_small.json'\n",
    "reviews=[]\n",
    "with open(file_name) as f:\n",
    "    for line in f:\n",
    "        review = json.loads(line)\n",
    "        reviews.append(Review(review['reviewText'],review['overall']))"
   ]
  },
  {
   "cell_type": "markdown",
   "id": "535f69a3",
   "metadata": {},
   "source": [
    "## Prep Data"
   ]
  },
  {
   "cell_type": "code",
   "execution_count": null,
   "id": "c2dec23b",
   "metadata": {},
   "outputs": [],
   "source": [
    "from sklearn.model_selection import train_test_split\n",
    "training, testing = train_test_split(reviews, test_size=0.33, random_state=42)"
   ]
  },
  {
   "cell_type": "code",
   "execution_count": null,
   "id": "a5dc75ed",
   "metadata": {},
   "outputs": [],
   "source": [
    "x_train = [x.text for x in training]\n",
    "y_train =[x.sentiment for x in training]\n",
    "\n",
    "x_test =[x.text for x in testing]\n",
    "y_test =[x.sentiment for x in testing]"
   ]
  },
  {
   "cell_type": "markdown",
   "id": "5a0b6e28",
   "metadata": {},
   "source": [
    "## Bags of words vectorization"
   ]
  },
  {
   "cell_type": "code",
   "execution_count": null,
   "id": "86182067",
   "metadata": {},
   "outputs": [],
   "source": [
    "from sklearn.feature_extraction.text import CountVectorizer\n",
    "vectorizer = CountVectorizer()\n",
    "x_train_vector = vectorizer.fit_transform(x_train)\n",
    "x_test_vector = vectorizer.transform(x_test)"
   ]
  },
  {
   "cell_type": "markdown",
   "id": "db91c663",
   "metadata": {},
   "source": [
    "## Classification"
   ]
  },
  {
   "cell_type": "markdown",
   "id": "e63494f7",
   "metadata": {},
   "source": [
    "#### Linear SVM"
   ]
  },
  {
   "cell_type": "code",
   "execution_count": null,
   "id": "2ee9bac9",
   "metadata": {},
   "outputs": [
    {
     "name": "stdout",
     "output_type": "stream",
     "text": [
      "Every new Myke Cole book is better than the last, and this is no exception. If you haven't read the Shadow Ops series before start with Control Point, but go ahead and order Fortress Frontier and Breach Zone as well - you're going to want them.\n",
      "POSITIVE\n",
      "['POSITIVE']\n"
     ]
    }
   ],
   "source": [
    "from sklearn import svm\n",
    "clf_svm = svm.SVC(kernel='linear')\n",
    "clf_svm.fit(x_train_vector, y_train)\n",
    "print(x_test[0])\n",
    "print(y_test[0])\n",
    "print(clf_svm.predict(x_test_vector[0]))"
   ]
  },
  {
   "cell_type": "markdown",
   "id": "4ebc355c",
   "metadata": {},
   "source": [
    "#### Decision Tree"
   ]
  },
  {
   "cell_type": "code",
   "execution_count": null,
   "id": "f7f9b166",
   "metadata": {},
   "outputs": [
    {
     "name": "stdout",
     "output_type": "stream",
     "text": [
      "['POSITIVE']\n"
     ]
    }
   ],
   "source": [
    "from sklearn.tree import DecisionTreeClassifier\n",
    "clf_dec = DecisionTreeClassifier()\n",
    "clf_dec.fit(x_train_vector, y_train)\n",
    "print(clf_dec.predict(x_test_vector[0]))"
   ]
  },
  {
   "cell_type": "markdown",
   "id": "59237b52",
   "metadata": {},
   "source": [
    "#### Naive Bayes\n"
   ]
  },
  {
   "cell_type": "code",
   "execution_count": null,
   "id": "c6fe2895",
   "metadata": {},
   "outputs": [
    {
     "name": "stdout",
     "output_type": "stream",
     "text": [
      "['POSITIVE']\n"
     ]
    }
   ],
   "source": [
    "from sklearn.naive_bayes import GaussianNB\n",
    "clf_gnb = GaussianNB()\n",
    "clf_gnb.fit(x_train_vector.toarray(), y_train)\n",
    "print(clf_gnb.predict(x_test_vector[0].toarray()))"
   ]
  }
 ],
 "metadata": {
  "kernelspec": {
   "display_name": "main",
   "language": "python",
   "name": "python3"
  },
  "language_info": {
   "codemirror_mode": {
    "name": "ipython",
    "version": 3
   },
   "file_extension": ".py",
   "mimetype": "text/x-python",
   "name": "python",
   "nbconvert_exporter": "python",
   "pygments_lexer": "ipython3",
   "version": "3.13.5"
  }
 },
 "nbformat": 4,
 "nbformat_minor": 5
}
