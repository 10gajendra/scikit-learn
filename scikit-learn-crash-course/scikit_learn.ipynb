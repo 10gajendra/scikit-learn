{
 "cells": [
  {
   "cell_type": "markdown",
   "id": "9a6c3158",
   "metadata": {},
   "source": [
    "## Data Class\n"
   ]
  },
  {
   "cell_type": "code",
   "execution_count": null,
   "id": "0348de0d",
   "metadata": {},
   "outputs": [],
   "source": [
    "class Sentiment:\n",
    "    NEGATIVE = \"NEGATIVE\"\n",
    "    NEUTRAL = \"NEUTRAL\"\n",
    "    POSITIVE = \"POSITIVE\"\n",
    "    \n",
    "class Review:\n",
    "    def __init__(self, text, score):\n",
    "        self.text = text\n",
    "        self.score = score\n",
    "        self.sentiment = self.get_sentiment()\n",
    "    \n",
    "    def get_sentiment(self):\n",
    "        if (self.score <= 2):\n",
    "            return 'NEGATIVE'\n",
    "        elif (self.score == 3):\n",
    "            return 'NEUTRAL'\n",
    "        else:\n",
    "            return 'POSITIVE'"
   ]
  },
  {
   "cell_type": "markdown",
   "id": "6b87a2cb",
   "metadata": {},
   "source": [
    "##  Load Data"
   ]
  },
  {
   "cell_type": "code",
   "execution_count": null,
   "id": "db6780c2",
   "metadata": {},
   "outputs": [],
   "source": [
    "import json\n",
    "file_name= r'Data/Books_small_10000.json'\n",
    "reviews=[]\n",
    "with open(file_name) as f:\n",
    "    for line in f:\n",
    "        review = json.loads(line)\n",
    "        reviews.append(Review(review['reviewText'],review['overall']))"
   ]
  },
  {
   "cell_type": "markdown",
   "id": "535f69a3",
   "metadata": {},
   "source": [
    "## Prep Data"
   ]
  },
  {
   "cell_type": "code",
   "execution_count": null,
   "id": "c2dec23b",
   "metadata": {},
   "outputs": [],
   "source": [
    "from sklearn.model_selection import train_test_split\n",
    "training, testing = train_test_split(reviews, test_size=0.33, random_state=42)"
   ]
  },
  {
   "cell_type": "code",
   "execution_count": null,
   "id": "a5dc75ed",
   "metadata": {},
   "outputs": [],
   "source": [
    "x_train = [x.text for x in training]\n",
    "y_train =[x.sentiment for x in training]\n",
    "\n",
    "x_test =[x.text for x in testing]\n",
    "y_test =[x.sentiment for x in testing]"
   ]
  },
  {
   "cell_type": "markdown",
   "id": "5a0b6e28",
   "metadata": {},
   "source": [
    "## Bags of words vectorization"
   ]
  },
  {
   "cell_type": "code",
   "execution_count": null,
   "id": "86182067",
   "metadata": {},
   "outputs": [],
   "source": [
    "from sklearn.feature_extraction.text import CountVectorizer\n",
    "vectorizer = CountVectorizer()\n",
    "x_train_vector = vectorizer.fit_transform(x_train)\n",
    "x_test_vector = vectorizer.transform(x_test)"
   ]
  },
  {
   "cell_type": "markdown",
   "id": "db91c663",
   "metadata": {},
   "source": [
    "## Classification"
   ]
  },
  {
   "cell_type": "markdown",
   "id": "e63494f7",
   "metadata": {},
   "source": [
    "#### Linear SVM"
   ]
  },
  {
   "cell_type": "code",
   "execution_count": null,
   "id": "2ee9bac9",
   "metadata": {},
   "outputs": [],
   "source": [
    "from sklearn import svm\n",
    "clf_svm = svm.SVC(kernel='linear')\n",
    "clf_svm.fit(x_train_vector, y_train)\n",
    "print(x_test[0])\n",
    "print(y_test[0])\n",
    "print(clf_svm.predict(x_test_vector[0]))"
   ]
  },
  {
   "cell_type": "markdown",
   "id": "4ebc355c",
   "metadata": {},
   "source": [
    "#### Decision Tree"
   ]
  },
  {
   "cell_type": "code",
   "execution_count": null,
   "id": "f7f9b166",
   "metadata": {},
   "outputs": [],
   "source": [
    "from sklearn.tree import DecisionTreeClassifier\n",
    "clf_dec = DecisionTreeClassifier()\n",
    "clf_dec.fit(x_train_vector, y_train)\n",
    "print(clf_dec.predict(x_test_vector[0]))"
   ]
  },
  {
   "cell_type": "markdown",
   "id": "59237b52",
   "metadata": {},
   "source": [
    "#### Naive Bayes\n"
   ]
  },
  {
   "cell_type": "code",
   "execution_count": null,
   "id": "c6fe2895",
   "metadata": {},
   "outputs": [],
   "source": [
    "from sklearn.naive_bayes import GaussianNB\n",
    "clf_gnb = GaussianNB()\n",
    "clf_gnb.fit(x_train_vector.toarray(), y_train)\n",
    "print(clf_gnb.predict(x_test_vector[0].toarray()))"
   ]
  },
  {
   "cell_type": "markdown",
   "id": "8e8c2a2f",
   "metadata": {},
   "source": [
    "#### Logistic Regression"
   ]
  },
  {
   "cell_type": "code",
   "execution_count": null,
   "id": "94592d0d",
   "metadata": {},
   "outputs": [],
   "source": [
    "from sklearn.linear_model import LogisticRegression\n",
    "clf_log = LogisticRegression()\n",
    "clf_log.fit(x_train_vector, y_train)\n",
    "print(clf_log.predict(x_test_vector[0]))"
   ]
  },
  {
   "cell_type": "markdown",
   "id": "1cf01e34",
   "metadata": {},
   "source": [
    "## Evaluation"
   ]
  },
  {
   "cell_type": "code",
   "execution_count": null,
   "id": "22bb4b17",
   "metadata": {},
   "outputs": [],
   "source": [
    "# Mean Accuracy\n",
    "print(clf_svm.score(x_test_vector, y_test))\n",
    "print(clf_dec.score(x_test_vector, y_test))\n",
    "print(clf_gnb.score(x_test_vector.toarray(), y_test))\n",
    "print(clf_log.score(x_test_vector, y_test))"
   ]
  },
  {
   "cell_type": "code",
   "execution_count": null,
   "id": "0d875762",
   "metadata": {},
   "outputs": [],
   "source": [
    "# F1 score\n",
    "from sklearn.metrics import f1_score\n",
    "print(f1_score(y_test, clf_svm.predict(x_test_vector), average=None, labels=[Sentiment.POSITIVE, Sentiment.NEGATIVE, Sentiment.NEUTRAL]))\n",
    "print(f1_score(y_test, clf_dec.predict(x_test_vector), average=None, labels=[Sentiment.POSITIVE, Sentiment.NEGATIVE, Sentiment.NEUTRAL]))\n",
    "print(f1_score(y_test, clf_gnb.predict(x_test_vector.toarray()), average=None, labels=[Sentiment.POSITIVE, Sentiment.NEGATIVE, Sentiment.NEUTRAL]))\n",
    "print(f1_score(y_test, clf_log.predict(x_test_vector), average=None, labels=[Sentiment.POSITIVE, Sentiment.NEGATIVE, Sentiment.NEUTRAL]))"
   ]
  }
 ],
 "metadata": {
  "kernelspec": {
   "display_name": "main",
   "language": "python",
   "name": "python3"
  },
  "language_info": {
   "codemirror_mode": {
    "name": "ipython",
    "version": 3
   },
   "file_extension": ".py",
   "mimetype": "text/x-python",
   "name": "python",
   "nbconvert_exporter": "python",
   "pygments_lexer": "ipython3",
   "version": "3.13.5"
  }
 },
 "nbformat": 4,
 "nbformat_minor": 5
}
